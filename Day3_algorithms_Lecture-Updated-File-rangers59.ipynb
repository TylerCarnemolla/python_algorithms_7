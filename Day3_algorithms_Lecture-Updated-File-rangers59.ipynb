{
 "cells": [
  {
   "cell_type": "markdown",
   "metadata": {},
   "source": [
    "# Algorithms, Binary Search & Linked Lists"
   ]
  },
  {
   "cell_type": "markdown",
   "metadata": {},
   "source": [
    "## Tasks Today:\n",
    " \n",
    "1) <b>In-Place Algorithms</b> <br>\n",
    " &nbsp;&nbsp;&nbsp;&nbsp; a) Syntax <br>\n",
    " &nbsp;&nbsp;&nbsp;&nbsp; a) Out of Place Algorithm <br>\n",
    " &nbsp;&nbsp;&nbsp;&nbsp; b) In-Class Exercise #1 <br>\n",
    "2) <b>Two Pointers</b> <br>\n",
    "3) <b>Linked Lists</b> <br>\n",
    "4) <b>Merge Sort</b> <br>\n",
    " &nbsp;&nbsp;&nbsp;&nbsp; a) Video on Algorithms <br>\n",
    " &nbsp;&nbsp;&nbsp;&nbsp; b) How it Works <br>\n",
    "5) <b>Exercises</b> <br>\n",
    " &nbsp;&nbsp;&nbsp;&nbsp; a) Exercise #1 - Reverse a List in Place Using an In-Place Algorithm <br>\n",
    " &nbsp;&nbsp;&nbsp;&nbsp; b) Exercise #2 - Find Distinct Words <br>\n",
    " &nbsp;&nbsp;&nbsp;&nbsp; c) Exercise #3 - Write a program to implement a Linear Search Algorithm. <br>"
   ]
  },
  {
   "cell_type": "markdown",
   "metadata": {},
   "source": [
    "## In-Place Algorithms"
   ]
  },
  {
   "cell_type": "markdown",
   "metadata": {},
   "source": [
    "#### Syntax"
   ]
  },
  {
   "cell_type": "code",
   "execution_count": 2,
   "metadata": {},
   "outputs": [
    {
     "name": "stdout",
     "output_type": "stream",
     "text": [
      "my list before the sawp\n",
      "[5, 8, 10]\n",
      "my list after the swap\n"
     ]
    },
    {
     "data": {
      "text/plain": [
       "[10, 8, 5]"
      ]
     },
     "execution_count": 2,
     "metadata": {},
     "output_type": "execute_result"
    }
   ],
   "source": [
    "# var[i], var[i+1] = var[i+1], var[i]\n",
    "#also known as a swap algorithm\n",
    "\n",
    "def swap(a_list, x, y, z):\n",
    "    a_list[x], a_list[y], a_list[z] = a_list[z], a_list[y], a_list[x]\n",
    "    return a_list\n",
    "\n",
    "my_list = [5, 8, 10]\n",
    "print(f\"my list before the sawp\")\n",
    "print(my_list)\n",
    "\n",
    "print(f\"my list after the swap\")\n",
    "\n",
    "swap(my_list,2,1,0) #you put the list in the order you want by their indexies, then the function rearanges them from there."
   ]
  },
  {
   "cell_type": "markdown",
   "metadata": {},
   "source": [
    "#### Out of Place Algorithm"
   ]
  },
  {
   "cell_type": "code",
   "execution_count": 4,
   "metadata": {},
   "outputs": [
    {
     "name": "stdout",
     "output_type": "stream",
     "text": [
      "before the swap [10, 8, 5]\n",
      "after the swap [5, 8, 10]\n",
      "before ['a', 'b', 'c', 'd']\n",
      "after ['d', 'c', 'b', 'a']\n"
     ]
    }
   ],
   "source": [
    "#This doesnt just rearange, but it completly reverses information. it also saves it to another place in memory\n",
    "my_list_swap = my_list[::-1]\n",
    "\n",
    "print(f\"before the swap {my_list}\")\n",
    "\n",
    "print(f\"after the swap {my_list_swap}\")\n",
    "\n",
    "#!!!!below is a more complicated way of doing the above by hand\n",
    "\n",
    "array=[\"a\", \"b\", \"c\", \"d\"]\n",
    "new_array= ['a']*len(array) # this makes a new array with all the values changes to 'a' and it makes it the same length \n",
    "                                #as the original array\n",
    "\n",
    "print(\"before\", array)\n",
    "length=len(array)- 1 #this initializes length as a number that is one less than the length of the original array which \n",
    "                        #gives the value 'c' in the 2nd place (0,1,2)\n",
    "                        \n",
    "                        #you need to do (-1) because the length function does NOT index starting at zero. you -1 to account \n",
    "                        #for the extra position bumpped up by the zero\n",
    "for i in range(length):\n",
    "    new_array[i] = array[length - i] #this runs a loop setting the value of i in the new_array to the value of the original\n",
    "                                        #array. it moves back one index per loop\n",
    "    \n",
    "array = new_array\n",
    "print('after', array)"
   ]
  },
  {
   "cell_type": "markdown",
   "metadata": {},
   "source": [
    "#### In-Class Exercise #1 <br>\n",
    "<p>Write a function that takes in four arguments (list, index1, index2, index3), and swaps those three positions in the list passed in.</p>"
   ]
  },
  {
   "cell_type": "code",
   "execution_count": 13,
   "metadata": {},
   "outputs": [
    {
     "data": {
      "text/plain": [
       "[10, 8, 3, 6, 4, 2, 4]"
      ]
     },
     "execution_count": 13,
     "metadata": {},
     "output_type": "execute_result"
    }
   ],
   "source": [
    "list_1 = [10, 4, 3, 8, 4, 2, 6]\n",
    "\n",
    "def swap(alist, index1, index2, index3):\n",
    "    alist[index1], alist[index2], alist[index3] = alist[index2], alist[index3], alist[index1]\n",
    "    return alist\n",
    "swap(list_1, 1, 3, 6)\n"
   ]
  },
  {
   "cell_type": "markdown",
   "metadata": {},
   "source": [
    "## Two Pointers"
   ]
  },
  {
   "cell_type": "markdown",
   "metadata": {},
   "source": [
    "#### Syntax"
   ]
  },
  {
   "cell_type": "code",
   "execution_count": 14,
   "metadata": {},
   "outputs": [
    {
     "data": {
      "text/plain": [
       "[10, 9, 8, 7, 6, 5, 4, 3, 2, 1]"
      ]
     },
     "execution_count": 14,
     "metadata": {},
     "output_type": "execute_result"
    }
   ],
   "source": [
    "#alist[left], alist[right] = alist[right], alist[left]\n",
    "\n",
    "def twopointers(alist):\n",
    "    #create the pointers\n",
    "    left=0\n",
    "    right = len(alist)-1 #-1 becasue the len function doesnt zero index, it starts at 1 not 0.\n",
    "    #set up a loop that works through list and swaps things one pair at a time\n",
    "    while left <= right:   #do this or else it will swap the items then swap them back to the original position\n",
    "        alist[left],alist[right] = alist[right],alist[left]\n",
    "        left +=1\n",
    "        right -= 1\n",
    "    return alist\n",
    "nums=[1,2,3,4,5,6,7,8,9,10]\n",
    "\n",
    "twopointers(nums)"
   ]
  },
  {
   "cell_type": "markdown",
   "metadata": {},
   "source": [
    "#### Video of Algorithms <br>\n",
    "<p>Watch the video about algorithms.</p>\n",
    "\n",
    "https://www.youtube.com/watch?v=Q9HjeFD62Uk\n",
    "\n",
    "https://www.youtube.com/watch?v=kPRA0W1kECg\n",
    "\n",
    "https://www.youtube.com/watch?v=ZZuD6iUe3Pc"
   ]
  },
  {
   "cell_type": "markdown",
   "metadata": {},
   "source": [
    "# Sorting Algorithms"
   ]
  },
  {
   "cell_type": "markdown",
   "metadata": {},
   "source": [
    "#### Bubble Sort\n",
    "\n",
    "Worst Case: O(n^2) Time - O(1) Space"
   ]
  },
  {
   "cell_type": "code",
   "execution_count": 16,
   "metadata": {},
   "outputs": [
    {
     "data": {
      "text/plain": [
       "[1, 3, 12, 20, 25, 42, 58, 64, 66, 75, 354]"
      ]
     },
     "execution_count": 16,
     "metadata": {},
     "output_type": "execute_result"
    }
   ],
   "source": [
    "#best case: O(n)- linear\n",
    "def swap(i , j , array):\n",
    "    array[i], array[j] = array[j], array[i]\n",
    "def bubbleSort(array):\n",
    "    isSorted= False\n",
    "    while not isSorted:    #this basically says \"while isSorted is false\"\n",
    "        isSorted = True\n",
    "        for num in range(len(array)-1):\n",
    "            if array[num] > array[num + 1]:\n",
    "                swap(num, num+1, array)\n",
    "                isSorted = False\n",
    "    return array\n",
    "bubbleSort([25, 75,1,64,3,58,354,66,42,20,12])"
   ]
  },
  {
   "cell_type": "markdown",
   "metadata": {},
   "source": [
    "##### Insertion Sort\n",
    "\n",
    "Worst Case: O(n^2) time - O(1)space"
   ]
  },
  {
   "cell_type": "code",
   "execution_count": 23,
   "metadata": {},
   "outputs": [
    {
     "data": {
      "text/plain": [
       "[1, 3, 12, 20, 25, 42, 58, 64, 66, 75, 354]"
      ]
     },
     "execution_count": 23,
     "metadata": {},
     "output_type": "execute_result"
    }
   ],
   "source": [
    "def swap(i , j , array):\n",
    "    array[i], array[j] = array[j], array[i] #we make this simle function for later\n",
    "\n",
    "def insertsort(array):\n",
    "    for i in range(1, len(array)):#we start at range 1 so the funtion can determine which item is bigger between the                                                                         #zero and one index, if we start at zero, it will compare it to -1 which is the last item in the function#we make j equal to i so we can put it in the following function\n",
    "        j = i \n",
    "        while j > 0 and array[j] < array[j-1]: #if j is greater than zero and it is smaller than the item before it, swap it\n",
    "            swap(j, j-1, array)\n",
    "            j-=1               #this runs the while loop again on the number it just swapped to see if it needs to beswapped\n",
    "                                #again with the new number in front of it\n",
    "    return array\n",
    "insertsort([25, 75,1,64,3,58,354,66,42,20,12])"
   ]
  },
  {
   "cell_type": "markdown",
   "metadata": {},
   "source": [
    "## Merge Sort"
   ]
  },
  {
   "cell_type": "markdown",
   "metadata": {},
   "source": [
    "#### How it Works"
   ]
  },
  {
   "cell_type": "code",
   "execution_count": 34,
   "metadata": {},
   "outputs": [
    {
     "name": "stdout",
     "output_type": "stream",
     "text": [
      "splitting.... [9, 1, 20, 11, 17]\n",
      "splitting.... [9, 1]\n",
      "splitting.... [9]\n",
      "merging.... [9]\n",
      "splitting.... [1]\n",
      "merging.... [1]\n",
      "merging.... [1, 9]\n",
      "splitting.... [20, 11, 17]\n",
      "splitting.... [20]\n",
      "merging.... [20]\n",
      "splitting.... [11, 17]\n",
      "splitting.... [11]\n",
      "merging.... [11]\n",
      "splitting.... [17]\n",
      "merging.... [17]\n",
      "merging.... [11, 17]\n",
      "merging.... [11, 17, 20]\n",
      "merging.... [1, 9, 11, 17, 20]\n"
     ]
    },
    {
     "data": {
      "text/plain": [
       "[1, 9, 11, 17, 20]"
      ]
     },
     "execution_count": 34,
     "metadata": {},
     "output_type": "execute_result"
    }
   ],
   "source": [
    "#1. Split everything into its own group\n",
    "#2. from left to right, merge the two groups together\n",
    "#3. While merging, place each item in the correct position within the merged group\n",
    "#4. continue steps 3 and 4 untill only one group is left.\n",
    "\n",
    "from random import randint    #this generates a random list of numbers 0-20\n",
    "nums=[randint(0,20)for i in range(5)]\n",
    "\n",
    "#write a mergesort below\n",
    "\n",
    "def mergesort(alist):\n",
    "    print(\"splitting....\",alist)\n",
    "    \n",
    "    #step 1: divide an array into equal parts\n",
    "    if len(alist) > 1:\n",
    "        mid = len(alist) // 2 #the mid point is the length of the list floor 2, floor is dividing without remainders\n",
    "        lefthalf= alist[:mid]   #left half is up to this mid line\n",
    "        righthalf= alist[mid:]   #right half is the midline onwards\n",
    "        \n",
    "        #RECURSION recusivly call mergesort to perform splits if needed, meaning divide into 2 or 4 or 8\n",
    "        #THEN merge once splits are done\n",
    "        \n",
    "        mergesort(lefthalf)\n",
    "        mergesort(righthalf)\n",
    "        \n",
    "        #index pointers for our lists (the invisable arrows that point to peices of data)\n",
    "        i = 0 #pointer for the left half\n",
    "        j = 0 #pointer for the right half\n",
    "        k = 0 #pointer for the main array\n",
    "        \n",
    "        #step 2: campare the left half and the right half\n",
    "        \n",
    "        while i < len(lefthalf) and j < len(righthalf):\n",
    "            if lefthalf[i] < righthalf[j]:\n",
    "                alist[k] = lefthalf[i]\n",
    "                i = i + 1\n",
    "            else:\n",
    "                alist[k] = righthalf[j]\n",
    "                j = j + 1\n",
    "            k = k + 1\n",
    "        #step 3: while merging, place the items in the correct spots\n",
    "        \n",
    "        while i < len(lefthalf):\n",
    "            alist[k] = lefthalf[i]\n",
    "            i = i + 1\n",
    "            k = k + 1\n",
    "        while j < len(righthalf):\n",
    "            alist[k] = righthalf[j]\n",
    "            j = j + 1\n",
    "            k = k + 1\n",
    "    print('merging....', alist)\n",
    "    return alist\n",
    "mergesort(nums)"
   ]
  },
  {
   "cell_type": "markdown",
   "metadata": {},
   "source": [
    "# Binary Search\n",
    "\n",
    "The Binary Search algorithm works by finding the number in the middle of a given array and comparing it to the target. Given that the array is sorted\n",
    "\n",
    "* The worst case run time for this algorithm is `O(log(n))`"
   ]
  },
  {
   "cell_type": "code",
   "execution_count": 37,
   "metadata": {},
   "outputs": [
    {
     "data": {
      "text/plain": [
       "'the index is... 6'"
      ]
     },
     "execution_count": 37,
     "metadata": {},
     "output_type": "execute_result"
    }
   ],
   "source": [
    "#less = left\n",
    "#greater = right\n",
    "#list of numbers must be sorted\n",
    "\n",
    "def binarysearchhelper(array, target, left, right):\n",
    "    while left <= right:\n",
    "        middle = (left + right) // 2\n",
    "        potentialmatch = array[middle]\n",
    "        if target == potentialmatch:\n",
    "            return f\"the index is... {middle}\"\n",
    "        elif target < potentialmatch:\n",
    "            right = middle -1\n",
    "        else: \n",
    "            left = middle + 1\n",
    "    return -1\n",
    "def binarysearch(array,target):\n",
    "    return binarysearchhelper(array, target, 0 , len(array)-1)\n",
    "binarysearch([2,44,62,8,3,87,33,41,12], 33)"
   ]
  },
  {
   "cell_type": "markdown",
   "metadata": {},
   "source": [
    "# Exercises"
   ]
  },
  {
   "cell_type": "markdown",
   "metadata": {},
   "source": [
    "### Exercise #1 <br>\n",
    "<p>Reverse the list below in-place using an in-place algorithm.<br>For extra credit: Reverse the strings at the same time.</p>"
   ]
  },
  {
   "cell_type": "code",
   "execution_count": 48,
   "metadata": {},
   "outputs": [
    {
     "name": "stdout",
     "output_type": "stream",
     "text": [
      "['.', 'ecnetnes', 'a', 'si', 'siht']\n"
     ]
    }
   ],
   "source": [
    "def reverse(words): #use a two pointer algorithm\n",
    "    left = 0\n",
    "    right = len(words) - 1\n",
    "\n",
    "    while left < right:\n",
    "        \n",
    "        words[left], words[right] = words[right], words[left] #swap the words like a mirror\n",
    "\n",
    "        words[left] = words[left][::-1]\n",
    "        words[right] = words[right][::-1] #do this to write the strings in reverse order\n",
    "\n",
    "        left += 1\n",
    "        right -= 1\n",
    "         \n",
    "        if left == right:\n",
    "            words[left] = words[left][::-1]\n",
    "\n",
    "   \n",
    "words = ['this', 'is', 'a', 'sentence', '.']\n",
    "reverse(words)\n",
    "print(words)"
   ]
  },
  {
   "cell_type": "markdown",
   "metadata": {},
   "source": [
    "### Exercise #2 <br>\n",
    "<p>Create a function that counts how many distinct words are in the string below, then outputs a dictionary with the words as the key and the value as the amount of times that word appears in the string.<br>Should output:<br>{'a': 5,<br>\n",
    " 'abstract': 1,<br>\n",
    " 'an': 3,<br>\n",
    " 'array': 2, ... etc...</p>"
   ]
  },
  {
   "cell_type": "code",
   "execution_count": 64,
   "metadata": {},
   "outputs": [
    {
     "data": {
      "text/plain": [
       "{'in': 1,\n",
       " 'computing,': 1,\n",
       " 'a': 5,\n",
       " 'hash': 4,\n",
       " 'table': 2,\n",
       " 'map': 2,\n",
       " 'is': 1,\n",
       " 'data': 2,\n",
       " 'structure': 2,\n",
       " 'which': 2,\n",
       " 'implements': 1,\n",
       " 'an': 3,\n",
       " 'associative': 1,\n",
       " 'array': 2,\n",
       " 'abstract': 1,\n",
       " 'type,': 1,\n",
       " 'that': 1,\n",
       " 'can': 2,\n",
       " 'keys': 1,\n",
       " 'to': 2,\n",
       " 'values.': 1,\n",
       " 'uses': 1,\n",
       " 'function': 1,\n",
       " 'compute': 1,\n",
       " 'index': 1,\n",
       " 'into': 1,\n",
       " 'of': 1,\n",
       " 'buckets': 1,\n",
       " 'or': 1,\n",
       " 'slots': 1,\n",
       " 'from': 1,\n",
       " 'the': 1,\n",
       " 'desired': 1,\n",
       " 'value': 1,\n",
       " 'be': 1,\n",
       " 'found': 1}"
      ]
     },
     "execution_count": 64,
     "metadata": {},
     "output_type": "execute_result"
    }
   ],
   "source": [
    "a_text = 'In computing, a hash table hash map is a data structure which implements an associative array abstract data type, a structure that can map keys to values. A hash table uses a hash function to compute an index into an array of buckets or slots from which the desired value can be found'\n",
    "def count(string):\n",
    "    words = string.lower().split()\n",
    "    \n",
    "    result_dict={}\n",
    "    for word in words:\n",
    "        if word in result_dict:\n",
    "            result_dict[word] += 1\n",
    "        else:\n",
    "            result_dict[word] = 1\n",
    "    return result_dict\n",
    "count(a_text)\n"
   ]
  },
  {
   "cell_type": "markdown",
   "metadata": {},
   "source": [
    "## Exercise #3\n",
    "\n",
    "Write a program to implement a Linear Search Algorithm. Also in a comment, write the Time Complexity of the following algorithm.\n",
    "\n",
    "#### Hint: Linear Searching will require searching a list for a given number. "
   ]
  },
  {
   "cell_type": "code",
   "execution_count": 82,
   "metadata": {},
   "outputs": [
    {
     "data": {
      "text/plain": [
       "'I found your target in the given list, 11 is at the 4 index'"
      ]
     },
     "execution_count": 82,
     "metadata": {},
     "output_type": "execute_result"
    }
   ],
   "source": [
    "nums_list=[10,23,45,70,11,15]\n",
    "target = 70\n",
    "\n",
    "def linearsearch(alist,target):\n",
    "    for i in range(len(alist)):\n",
    "        if alist[i] == target:\n",
    "            return f\"I found your target in the given list, {target} is at the {i} index\"\n",
    "    else:\n",
    "        return f\"Sorry, that target number was not in the list\"\n",
    "\n",
    "linearsearch(nums_list,11)\n",
    "\n",
    "#after scouring the internet i found that O(1) = a constant amount time for the algorithim to run every time despit input size\n",
    "# O(n) is a linear amount of time, the work in a algorithm and the time it takes has a one for on relationship\n",
    "# O(n^2) means the time required is squared the size of the input\n",
    "\n",
    "\n",
    "#this linear search has a O(n) time complexity\n"
   ]
  }
 ],
 "metadata": {
  "kernelspec": {
   "display_name": "Python 3 (ipykernel)",
   "language": "python",
   "name": "python3"
  },
  "language_info": {
   "codemirror_mode": {
    "name": "ipython",
    "version": 3
   },
   "file_extension": ".py",
   "mimetype": "text/x-python",
   "name": "python",
   "nbconvert_exporter": "python",
   "pygments_lexer": "ipython3",
   "version": "3.11.3"
  }
 },
 "nbformat": 4,
 "nbformat_minor": 2
}
